{
 "cells": [
  {
   "cell_type": "code",
   "execution_count": 3,
   "id": "3f6692ea-1859-410b-97ee-c1800a51f481",
   "metadata": {},
   "outputs": [],
   "source": [
    "import numpy as np\n",
    "import pandas as pd\n",
    "import matplotlib.pyplot as plt"
   ]
  },
  {
   "cell_type": "code",
   "execution_count": 4,
   "id": "d0f9bf82-3e1b-438b-a456-ff509cde6db8",
   "metadata": {},
   "outputs": [],
   "source": [
    "data = pd.read_csv(\"./measured_wind.csv\",header=None)"
   ]
  },
  {
   "cell_type": "code",
   "execution_count": 5,
   "id": "88b98f5c-c9e9-4129-87b0-3a2a06629012",
   "metadata": {},
   "outputs": [
    {
     "data": {
      "text/html": [
       "<div>\n",
       "<style scoped>\n",
       "    .dataframe tbody tr th:only-of-type {\n",
       "        vertical-align: middle;\n",
       "    }\n",
       "\n",
       "    .dataframe tbody tr th {\n",
       "        vertical-align: top;\n",
       "    }\n",
       "\n",
       "    .dataframe thead th {\n",
       "        text-align: right;\n",
       "    }\n",
       "</style>\n",
       "<table border=\"1\" class=\"dataframe\">\n",
       "  <thead>\n",
       "    <tr style=\"text-align: right;\">\n",
       "      <th></th>\n",
       "      <th>0</th>\n",
       "      <th>1</th>\n",
       "      <th>2</th>\n",
       "    </tr>\n",
       "  </thead>\n",
       "  <tbody>\n",
       "    <tr>\n",
       "      <th>0</th>\n",
       "      <td>23/03/22 10:02:34</td>\n",
       "      <td>0.83</td>\n",
       "      <td>125.1</td>\n",
       "    </tr>\n",
       "    <tr>\n",
       "      <th>1</th>\n",
       "      <td>23/03/22 10:02:35</td>\n",
       "      <td>0.76</td>\n",
       "      <td>76.7</td>\n",
       "    </tr>\n",
       "    <tr>\n",
       "      <th>2</th>\n",
       "      <td>23/03/22 10:02:36</td>\n",
       "      <td>0.84</td>\n",
       "      <td>96.5</td>\n",
       "    </tr>\n",
       "    <tr>\n",
       "      <th>3</th>\n",
       "      <td>23/03/22 10:02:37</td>\n",
       "      <td>1.08</td>\n",
       "      <td>121.4</td>\n",
       "    </tr>\n",
       "    <tr>\n",
       "      <th>4</th>\n",
       "      <td>23/03/22 10:02:38</td>\n",
       "      <td>0.80</td>\n",
       "      <td>106.6</td>\n",
       "    </tr>\n",
       "    <tr>\n",
       "      <th>...</th>\n",
       "      <td>...</td>\n",
       "      <td>...</td>\n",
       "      <td>...</td>\n",
       "    </tr>\n",
       "    <tr>\n",
       "      <th>541266</th>\n",
       "      <td>23/05/03 16:00:37</td>\n",
       "      <td>2.28</td>\n",
       "      <td>317.8</td>\n",
       "    </tr>\n",
       "    <tr>\n",
       "      <th>541267</th>\n",
       "      <td>23/05/03 16:00:38</td>\n",
       "      <td>2.45</td>\n",
       "      <td>260.0</td>\n",
       "    </tr>\n",
       "    <tr>\n",
       "      <th>541268</th>\n",
       "      <td>23/05/03 16:00:39</td>\n",
       "      <td>1.83</td>\n",
       "      <td>278.9</td>\n",
       "    </tr>\n",
       "    <tr>\n",
       "      <th>541269</th>\n",
       "      <td>23/05/03 16:00:40</td>\n",
       "      <td>3.52</td>\n",
       "      <td>213.1</td>\n",
       "    </tr>\n",
       "    <tr>\n",
       "      <th>541270</th>\n",
       "      <td>23/05/03 16:00:41</td>\n",
       "      <td>2.77</td>\n",
       "      <td>179.1</td>\n",
       "    </tr>\n",
       "  </tbody>\n",
       "</table>\n",
       "<p>541271 rows × 3 columns</p>\n",
       "</div>"
      ],
      "text/plain": [
       "                        0     1      2\n",
       "0       23/03/22 10:02:34  0.83  125.1\n",
       "1       23/03/22 10:02:35  0.76   76.7\n",
       "2       23/03/22 10:02:36  0.84   96.5\n",
       "3       23/03/22 10:02:37  1.08  121.4\n",
       "4       23/03/22 10:02:38  0.80  106.6\n",
       "...                   ...   ...    ...\n",
       "541266  23/05/03 16:00:37  2.28  317.8\n",
       "541267  23/05/03 16:00:38  2.45  260.0\n",
       "541268  23/05/03 16:00:39  1.83  278.9\n",
       "541269  23/05/03 16:00:40  3.52  213.1\n",
       "541270  23/05/03 16:00:41  2.77  179.1\n",
       "\n",
       "[541271 rows x 3 columns]"
      ]
     },
     "execution_count": 5,
     "metadata": {},
     "output_type": "execute_result"
    }
   ],
   "source": [
    "data"
   ]
  },
  {
   "cell_type": "code",
   "execution_count": 10,
   "id": "840e2288-f357-4f16-92b0-0a3e8988f25f",
   "metadata": {},
   "outputs": [
    {
     "data": {
      "text/plain": [
       "0         34\n",
       "1         35\n",
       "2         36\n",
       "3         37\n",
       "4         38\n",
       "          ..\n",
       "541266    37\n",
       "541267    38\n",
       "541268    39\n",
       "541269    40\n",
       "541270    41\n",
       "Name: 0, Length: 541271, dtype: int64"
      ]
     },
     "execution_count": 10,
     "metadata": {},
     "output_type": "execute_result"
    }
   ],
   "source": []
  },
  {
   "cell_type": "code",
   "execution_count": 11,
   "id": "c173ce1f-9afa-4146-9ea2-0db521dbeb94",
   "metadata": {},
   "outputs": [],
   "source": [
    "kT = 25.6*10**-3"
   ]
  },
  {
   "cell_type": "code",
   "execution_count": null,
   "id": "126fb138-0b15-4cef-a805-1563c441dde4",
   "metadata": {},
   "outputs": [
    {
     "data": {
      "text/plain": [
       "6.702064327658225"
      ]
     },
     "execution_count": 16,
     "metadata": {},
     "output_type": "execute_result"
    }
   ],
   "source": [
    "(kT*2500*2*np.pi/60)"
   ]
  },
  {
   "cell_type": "code",
   "execution_count": 113,
   "id": "a0dd963b-db26-45f1-ab35-30abc219bd6c",
   "metadata": {},
   "outputs": [
    {
     "name": "stdout",
     "output_type": "stream",
     "text": [
      "[2122.06590789 2546.47908947 2970.89227105]\n",
      "[18.84088083 16.069753   14.65426827]\n",
      "[0.30195959 0.42483675 0.543518  ]\n"
     ]
    }
   ],
   "source": [
    "R_int = 2.19\n",
    "R_ext = 10\n",
    "\n",
    "D = 0.225\n",
    "\n",
    "TSR = 5\n",
    "U = np.array([5, 6, 7])\n",
    "w_opt = TSR * U / (D/2) * 30 / np.pi\n",
    "print(w_opt)\n",
    "w = np.array([1230, 1700, 2150]) # measured rpm\n",
    "R_opt = (R_ext + R_int) * w_opt / w - R_int\n",
    "print(R_opt)\n",
    "I = w_opt / R_opt / 373\n",
    "print(I)"
   ]
  },
  {
   "cell_type": "code",
   "execution_count": 19,
   "id": "a1ae1e1d-fc7f-4e87-ae23-be976774b053",
   "metadata": {},
   "outputs": [
    {
     "data": {
      "text/plain": [
       "2037.18327157626"
      ]
     },
     "execution_count": 19,
     "metadata": {},
     "output_type": "execute_result"
    }
   ],
   "source": [
    "rpm"
   ]
  },
  {
   "cell_type": "code",
   "execution_count": 44,
   "id": "7454fdf4-3f53-40ff-ac60-dd76b756549a",
   "metadata": {},
   "outputs": [
    {
     "data": {
      "text/plain": [
       "78.125"
      ]
     },
     "execution_count": 44,
     "metadata": {},
     "output_type": "execute_result"
    }
   ],
   "source": [
    "10000/128"
   ]
  },
  {
   "cell_type": "code",
   "execution_count": 112,
   "id": "7fad5794-be58-4bb5-abd7-3a2d322a0236",
   "metadata": {},
   "outputs": [
    {
     "data": {
      "text/plain": [
       "(0.0, 20.0)"
      ]
     },
     "execution_count": 112,
     "metadata": {},
     "output_type": "execute_result"
    },
    {
     "data": {
      "image/png": "[encoded data removed]",
      "text/plain": [
       "<Figure size 640x480 with 1 Axes>"
      ]
     },
     "metadata": {},
     "output_type": "display_data"
    }
   ],
   "source": [
    "R = 1000\n",
    "n = 10\n",
    "R_pot = np.linspace(0, 10000, 128)\n",
    "R_tot = (R * R_pot) / (R + n*R_pot) + 2.2\n",
    "plt.plot(R_pot, R_tot, '.')\n",
    "plt.ylim([0, 20])"
   ]
  },
  {
   "cell_type": "code",
   "execution_count": 47,
   "id": "e3b74e64-2ec6-4b8c-b8c8-d3831aa338ee",
   "metadata": {},
   "outputs": [
    {
     "data": {
      "text/plain": [
       "[<matplotlib.lines.Line2D at 0x7f003fe33430>]"
      ]
     },
     "execution_count": 47,
     "metadata": {},
     "output_type": "execute_result"
    },
    {
     "data": {
      "image/png": "[encoded data removed]",
      "text/plain": [
       "<Figure size 640x480 with 1 Axes>"
      ]
     },
     "metadata": {},
     "output_type": "display_data"
    }
   ],
   "source": [
    "plt.plot(R_pot, R_tot)"
   ]
  }
 ],
 "metadata": {
  "kernelspec": {
   "display_name": "WF-sim-real",
   "language": "python",
   "name": "wf-sim-real"
  },
  "language_info": {
   "codemirror_mode": {
    "name": "ipython",
    "version": 3
   },
   "file_extension": ".py",
   "mimetype": "text/x-python",
   "name": "python",
   "nbconvert_exporter": "python",
   "pygments_lexer": "ipython3",
   "version": "3.8.0"
  }
 },
 "nbformat": 4,
 "nbformat_minor": 5
}
