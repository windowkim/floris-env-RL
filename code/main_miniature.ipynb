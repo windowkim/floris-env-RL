{
 "cells": [
  {
   "cell_type": "code",
   "execution_count": 1,
   "id": "156f8c97-c330-4d69-939b-40d82a59b01d",
   "metadata": {},
   "outputs": [],
   "source": [
    "import argparse\n",
    "import random\n",
    "import sys\n",
    "import os\n",
    "import yaml\n",
    "from pyvirtualdisplay import Display\n",
    "display1 = Display(visible=False, size=(400, 300))\n",
    "display1.start()\n",
    "from gym.wrappers import TimeLimit\n",
    "\n",
    "from agent import NaiveAgent, FlorisAgent, SACAgent, TD3Agent\n",
    "from wind_farm_gym import WindFarmEnv\n",
    "from wind_farm_gym.wind_process import MVOUWindProcess\n"
   ]
  },
  {
   "cell_type": "code",
   "execution_count": 19,
   "id": "cbb4b975-d7ec-4673-b74c-b66007746096",
   "metadata": {},
   "outputs": [],
   "source": [
    "import progressbar\n",
    "import time"
   ]
  },
  {
   "cell_type": "code",
   "execution_count": 21,
   "id": "4a7a0297-67be-4a6e-93f2-055a757fa8cd",
   "metadata": {},
   "outputs": [
    {
     "name": "stderr",
     "output_type": "stream",
     "text": [
      "100% (6 of 6) |##########################| Elapsed Time: 0:00:06 Time:  0:00:06\n"
     ]
    }
   ],
   "source": [
    "for i in progressbar.progressbar(range(4,10)):\n",
    "    # print(i)\n",
    "    time.sleep(1)\n"
   ]
  },
  {
   "cell_type": "code",
   "execution_count": 16,
   "id": "81600d77-e5fd-4859-a2f1-e2faba299043",
   "metadata": {},
   "outputs": [
    {
     "ename": "AttributeError",
     "evalue": "module 'progressbar' has no attribute 'start'",
     "output_type": "error",
     "traceback": [
      "\u001b[0;31m---------------------------------------------------------------------------\u001b[0m",
      "\u001b[0;31mAttributeError\u001b[0m                            Traceback (most recent call last)",
      "Cell \u001b[0;32mIn[16], line 1\u001b[0m\n\u001b[0;32m----> 1\u001b[0m \u001b[43mprogressbar\u001b[49m\u001b[38;5;241;43m.\u001b[39;49m\u001b[43mstart\u001b[49m()\n",
      "\u001b[0;31mAttributeError\u001b[0m: module 'progressbar' has no attribute 'start'"
     ]
    }
   ],
   "source": [
    "progressbar.start()"
   ]
  },
  {
   "cell_type": "code",
   "execution_count": 11,
   "id": "4285cfd8-b281-4158-b9ad-fa19160115b9",
   "metadata": {},
   "outputs": [],
   "source": [
    "# Read the configuration file\n",
    "with open('./configs/miniature_wind_farm.yml') as stream:\n",
    "# with open('./configs/NREL5MW_wind_farm.yml') as stream:\n",
    "    try:\n",
    "        config = yaml.safe_load(stream)\n",
    "    except yaml.YAMLError as exc:\n",
    "        print(exc)\n",
    "        sys.exit()\n",
    "\n",
    "# Get a list of seeds from the config. If there are no seeds given, generate one instead\n",
    "seeds = config.get('seed', random.randint(0, 2 ** 32 - 1))\n",
    "seeds = list(seeds)\n",
    "\n"
   ]
  },
  {
   "cell_type": "code",
   "execution_count": 12,
   "id": "73be7ced-e10a-4b3a-b11d-01cc29a4f515",
   "metadata": {},
   "outputs": [
    {
     "data": {
      "text/plain": [
       "True"
      ]
     },
     "execution_count": 12,
     "metadata": {},
     "output_type": "execute_result"
    }
   ],
   "source": [
    "config['rescale_rewards']"
   ]
  },
  {
   "cell_type": "code",
   "execution_count": 13,
   "id": "c84381d4-eaf4-4735-b0fd-b02f20b4be3f",
   "metadata": {
    "tags": []
   },
   "outputs": [],
   "source": [
    "seed = seeds[0]\n",
    "\n",
    "# Read evaluation and training data from the config\n",
    "eval_steps = config.get('eval_steps', 1000)        # Number of time steps in each evaluation\n",
    "training_steps = config.get('train_steps', 10000)  # Number of time steps in training\n",
    "n_eval_env = config.get('n_eval_env', 1)           # Number of evaluations\n",
    "time_delta = config.get('time_delta', 1)           # Time difference between time steps, in seconds\n",
    "\n",
    "# Set random seeds, one for training and n_eval_env seeds for evaluations\n",
    "random.seed(seed)\n",
    "data_generation_train_seed = random.randint(0, 2 ** 32 - 1)\n",
    "data_generation_eval_seeds = [random.randint(0, 2 ** 32 - 1) for _ in range(n_eval_env)]\n",
    "\n",
    "# Create a directory for the project results if needed\n",
    "directory = os.path.join(config.get('directory', 'data'),\n",
    "                         config.get('name', 'WindFarm'),\n",
    "                         f'seed_{seed}')\n",
    "if not os.path.exists(directory):\n",
    "    os.makedirs(directory)"
   ]
  },
  {
   "cell_type": "code",
   "execution_count": 14,
   "id": "0f0bb672-a5c0-4fd5-9c27-a657b528f3b1",
   "metadata": {},
   "outputs": [
    {
     "data": {
      "text/plain": [
       "False"
      ]
     },
     "execution_count": 14,
     "metadata": {},
     "output_type": "execute_result"
    }
   ],
   "source": [
    "config.get('wind_process', {})\n",
    "config.get('wind_process') is not None"
   ]
  },
  {
   "cell_type": "code",
   "execution_count": 15,
   "id": "bc25a25e-3759-482d-a60d-49eb069c555e",
   "metadata": {
    "tags": []
   },
   "outputs": [
    {
     "name": "stdout",
     "output_type": "stream",
     "text": [
      "Retrieving the wind data...\n",
      "./configs/wind_data\n",
      "Setting  up the environments...\n"
     ]
    }
   ],
   "source": [
    "# Generate the wind data and save it. If the data already exists, load previously generated data instead\n",
    "print(\"Retrieving the wind data...\")\n",
    "if config.get('wind_process') is not None:\n",
    "    print('wind_process is exist')\n",
    "    # Check the directory\n",
    "    data_path = os.path.join(directory, 'wind_data')\n",
    "    if not os.path.exists(data_path):\n",
    "        os.makedirs(data_path)\n",
    "\n",
    "    # Get the wind process data from the config\n",
    "    wind_config = config.get('wind_process', {})\n",
    "\n",
    "    # If the wind process is MVOU, read it\n",
    "    if wind_config.get('type', None) == 'mvou':\n",
    "        \n",
    "        # Read the existing data\n",
    "        eval_processes = [\n",
    "            MVOUWindProcess.switch_to_csv(\n",
    "                os.path.join(data_path, f'evaluation_data_{i}.csv'),\n",
    "                time_steps=eval_steps,\n",
    "                time_delta=time_delta,\n",
    "                properties=wind_config.get('properties', None),\n",
    "                seed=data_generation_eval_seeds[i]\n",
    "            )\n",
    "            for i in range(n_eval_env)\n",
    "        ]\n",
    "        train_process = MVOUWindProcess.switch_to_csv(\n",
    "            os.path.join(data_path, 'training_data.csv'),\n",
    "            time_steps=training_steps,\n",
    "            time_delta=time_delta,\n",
    "            properties=wind_config.get('properties', None),\n",
    "            seed=data_generation_train_seed\n",
    "        )\n",
    "    elif wind_config.get('type', None) == 'uniform':\n",
    "        # Uniform process, constant wind will be used from default_floris_input.json -> 7m/s, 270 degrees\n",
    "        eval_processes, train_process = None, None\n",
    "    \n",
    "    else:\n",
    "        # If you want to use a non-MVOU process, implement it here\n",
    "        raise NotImplementedError\n",
    "else:\n",
    "    # wind  process is none, then find user wind data\n",
    "    # Check the directory\n",
    "    data_path = os.path.join('./configs/', 'wind_data')\n",
    "    if not os.path.exists(data_path):\n",
    "        os.makedirs(data_path)\n",
    "    print(data_path)\n",
    "    wind_config = config.get('wind_process', {})\n",
    "    eval_processes = [\n",
    "            MVOUWindProcess.switch_to_csv(\n",
    "                os.path.join(data_path, f'evaluation_data_uniform_{i}.csv'),\n",
    "                time_steps=eval_steps,\n",
    "                time_delta=time_delta,\n",
    "                properties=wind_config.get('properties', None),\n",
    "                seed=data_generation_eval_seeds[i]\n",
    "            )\n",
    "            for i in range(n_eval_env)\n",
    "            ]\n",
    "    train_process = MVOUWindProcess.switch_to_csv(\n",
    "            os.path.join(data_path, 'training_data_uniform.csv'),\n",
    "            time_steps=training_steps,\n",
    "            time_delta=time_delta,\n",
    "            properties=wind_config.get('properties', None),\n",
    "            seed=data_generation_train_seed\n",
    "        )\n",
    "    # # In case there are no wind processes, constant wind will be used\n",
    "    # eval_process, train_process = None, None\n",
    "\n",
    "# Create the environments using the wind processes generated earlier\n",
    "print(\"Setting  up the environments...\")\n",
    "env_config = config.get('environment', {})  # this is the non-wind data needed to setup the environment\n",
    "# time_delta is stored separately in the config because it is needed by both the wind process and the env\n",
    "env_config['time_delta'] = time_delta\n",
    "train_env = TimeLimit(WindFarmEnv(wind_process=train_process, **env_config), training_steps)\n",
    "if eval_processes is not None:\n",
    "    eval_envs = [\n",
    "        TimeLimit(WindFarmEnv(wind_process=eval_process, **env_config), eval_steps)\n",
    "        for eval_process in eval_processes\n",
    "    ]\n",
    "else:\n",
    "    eval_envs = TimeLimit(WindFarmEnv(wind_process=None, **env_config), eval_steps)"
   ]
  },
  {
   "cell_type": "code",
   "execution_count": 16,
   "id": "ab874290-ca6d-4862-8beb-73081f470b36",
   "metadata": {},
   "outputs": [
    {
     "ename": "TypeError",
     "evalue": "return_grid_points() missing 1 required positional argument: 'coord'",
     "output_type": "error",
     "traceback": [
      "\u001b[0;31m---------------------------------------------------------------------------\u001b[0m",
      "\u001b[0;31mTypeError\u001b[0m                                 Traceback (most recent call last)",
      "Cell \u001b[0;32mIn[16], line 1\u001b[0m\n\u001b[0;32m----> 1\u001b[0m \u001b[43mtrain_env\u001b[49m\u001b[38;5;241;43m.\u001b[39;49m\u001b[43menv\u001b[49m\u001b[38;5;241;43m.\u001b[39;49m\u001b[43mturbines\u001b[49m\u001b[43m[\u001b[49m\u001b[38;5;241;43m0\u001b[39;49m\u001b[43m]\u001b[49m\u001b[38;5;241;43m.\u001b[39;49m\u001b[43mreturn_grid_points\u001b[49m\u001b[43m(\u001b[49m\u001b[43m)\u001b[49m\n",
      "\u001b[0;31mTypeError\u001b[0m: return_grid_points() missing 1 required positional argument: 'coord'"
     ]
    }
   ],
   "source": [
    "train_env.env.turbines[0].return_grid_points()"
   ]
  },
  {
   "cell_type": "code",
   "execution_count": 17,
   "id": "8afb9515-b591-47b8-a47d-ffdfba728795",
   "metadata": {},
   "outputs": [
    {
     "data": {
      "text/plain": [
       "5.693292194430945"
      ]
     },
     "execution_count": 17,
     "metadata": {},
     "output_type": "execute_result"
    }
   ],
   "source": [
    "0.2846646097215472*20"
   ]
  },
  {
   "cell_type": "code",
   "execution_count": 18,
   "id": "170defe1-47ec-4a66-8308-b16f65f3f3bc",
   "metadata": {},
   "outputs": [
    {
     "name": "stdout",
     "output_type": "stream",
     "text": [
      "Making agent list...\n"
     ]
    }
   ],
   "source": [
    "# Make a list of agents, check if their experiment data already exists, and  skip them if it does.\n",
    "# If you want to rerun one of the agents in a previous experiment, delete their data from the results\n",
    "# directory.\n",
    "print(\"Making agent list...\")\n",
    "agents = config.get('agents', [])\n",
    "results_directory = os.path.join(directory, 'results')"
   ]
  },
  {
   "cell_type": "code",
   "execution_count": 19,
   "id": "01f28c20-941a-408a-bcac-eae5fac1b181",
   "metadata": {},
   "outputs": [],
   "source": [
    "# Check which agents were already run\n",
    "for agent_description in agents:\n",
    "    name = agent_description.get('name', agent_description.get('type', None))\n",
    "    assert name is not None, 'agents must have a name and/or a type'\n",
    "    agent_directory = os.path.join(results_directory, name)\n",
    "    if os.path.exists(agent_directory):\n",
    "        agent_description['exists'] = True"
   ]
  },
  {
   "cell_type": "code",
   "execution_count": 20,
   "id": "e2e17311-338d-44d0-842a-b199568a0283",
   "metadata": {},
   "outputs": [],
   "source": [
    "# Remove previously run agents from the list\n",
    "agents = [agent for agent in agents if not agent.get('exists', False)]"
   ]
  },
  {
   "cell_type": "code",
   "execution_count": 21,
   "id": "645d3d0b-9769-44bb-9208-526a712944bb",
   "metadata": {},
   "outputs": [
    {
     "ename": "NameError",
     "evalue": "name 'run_config' is not defined",
     "output_type": "error",
     "traceback": [
      "\u001b[0;31m---------------------------------------------------------------------------\u001b[0m",
      "\u001b[0;31mNameError\u001b[0m                                 Traceback (most recent call last)",
      "Cell \u001b[0;32mIn[21], line 1\u001b[0m\n\u001b[0;32m----> 1\u001b[0m \u001b[43mrun_config\u001b[49m[\u001b[38;5;124m'\u001b[39m\u001b[38;5;124mrescale_rewards\u001b[39m\u001b[38;5;124m'\u001b[39m]\n",
      "\u001b[0;31mNameError\u001b[0m: name 'run_config' is not defined"
     ]
    }
   ],
   "source": [
    "run_config['rescale_rewards']"
   ]
  },
  {
   "cell_type": "code",
   "execution_count": 22,
   "id": "6b68dec1-0f6c-441d-8a07-d16d169df6a5",
   "metadata": {
    "tags": []
   },
   "outputs": [
    {
     "name": "stdout",
     "output_type": "stream",
     "text": [
      "Creating agent TD3-wind...\n",
      "Retrieving parameters for agent TD3-wind...\n",
      "Initializing agent TD3-wind...\n"
     ]
    },
    {
     "name": "stderr",
     "output_type": "stream",
     "text": [
      "  0% (0 of 40000) |                      | Elapsed Time: 0:00:00 ETA:  --:--:--"
     ]
    },
    {
     "name": "stdout",
     "output_type": "stream",
     "text": [
      "Running agent TD3-wind...\n"
     ]
    },
    {
     "name": "stderr",
     "output_type": "stream",
     "text": [
      "100% (40000 of 40000) |##################| Elapsed Time: 0:41:16 Time:  0:41:16\n"
     ]
    },
    {
     "name": "stdout",
     "output_type": "stream",
     "text": [
      "Done\n"
     ]
    },
    {
     "data": {
      "image/png": "[encoded data removed]",
      "text/plain": [
       "<Figure size 640x128 with 1 Axes>"
      ]
     },
     "metadata": {},
     "output_type": "display_data"
    }
   ],
   "source": [
    "# Run the agents\n",
    "for agent_description in agents:\n",
    "    # Create a directory for  the agent\n",
    "    name = agent_description.get('name', agent_description.get('type', None))\n",
    "    agent_directory = os.path.join(results_directory, name)\n",
    "\n",
    "    # Configure the experiment\n",
    "    run_config = {\n",
    "        'log_directory': agent_directory,                        # The directory to log\n",
    "        'total_steps': training_steps,                           # Training steps\n",
    "        'render': config.get('render', True),                   # Render the environment to the user?\n",
    "        'rescale_rewards': config.get('rescale_rewards', True),  # Rescale the rewards to [0,1]?\n",
    "        'reward_range': config.get('reward_range'),              # Reward range for rescaling\n",
    "        'log': config.get('log', True),                          # Save logs?\n",
    "        'log_every': config.get('log_every', 100),               # Save logs every log_every steps\n",
    "        'eval_envs': eval_envs,                                  # A list of evaluation environments\n",
    "        'eval_steps': eval_steps,                                # How many steps should an evaluation last\n",
    "        'eval_every': config.get('eval_every', 100),             # Evaluate every eval_every steps\n",
    "    }\n",
    "\n",
    "    # Initialize an agent\n",
    "    print(f'Creating agent {name}...')\n",
    "    print(f'Retrieving parameters for agent {name}...')\n",
    "    parameters = agent_description.get('parameters', {})\n",
    "    # When agent's performance does not change over time, there is no need to re-evaluate it over and over.\n",
    "    # FLORIS and Naive agents fall into this category, so we run their evaluations only once to speed things\n",
    "    # up. If you want to, you can rerun them by changing the following variables.\n",
    "    eval_once = False  # If true, evaluate agent once and copy the results every eval_every steps\n",
    "    eval_only = False  # If true, don't run training, this agents needs evaluation only\n",
    "    print(f'Initializing agent {name}...')\n",
    "    if agent_description['type'] == 'naive':\n",
    "        agent = NaiveAgent(name, train_env)\n",
    "        eval_once = True\n",
    "        eval_only = True\n",
    "    elif agent_description['type'] == 'floris':\n",
    "        agent = FlorisAgent(name, train_env, **parameters)\n",
    "        eval_once = True\n",
    "        eval_only = True\n",
    "    elif agent_description['type'] == 'sac':\n",
    "        agent = SACAgent(name, train_env, **parameters)\n",
    "    elif agent_description['type'] == 'td3':\n",
    "        agent = TD3Agent(name, train_env, **parameters)\n",
    "    else:\n",
    "        # Implement your custom agents here\n",
    "        agent = None\n",
    "\n",
    "    # Run the training and evaluations\n",
    "    print(f'Running agent {name}...')\n",
    "    if agent is not None:\n",
    "        agent.run(eval_once=eval_once, eval_only=eval_only, **run_config)\n",
    "        agent.close()\n",
    "\n",
    "print('Done')"
   ]
  },
  {
   "cell_type": "code",
   "execution_count": 19,
   "id": "554a61a3-f70f-4a72-aeaa-9a533a08b1d8",
   "metadata": {},
   "outputs": [
    {
     "name": "stderr",
     "output_type": "stream",
     "text": [
      "\u001b[34mfloris.tools.floris_interface.FlorisInterface\u001b[0m \u001b[1;30mINFO\u001b[0m Default to hub height = 0.4 for horizontal plane.\n"
     ]
    },
    {
     "data": {
      "text/plain": [
       "<floris.tools.cut_plane.CutPlane at 0x7f234c387040>"
      ]
     },
     "execution_count": 19,
     "metadata": {},
     "output_type": "execute_result"
    }
   ],
   "source": [
    "train_env.floris_interface.get_hor_plane(64, )"
   ]
  },
  {
   "cell_type": "code",
   "execution_count": 11,
   "id": "c71f2b90-bdcc-42c1-9960-c3daab903e7d",
   "metadata": {
    "tags": []
   },
   "outputs": [],
   "source": [
    "\n",
    "def run(config, seed):\n",
    "    \"\"\"\n",
    "    Run an experiment using a config file\n",
    "    :param config: a config file with the parameters for agents, environment and wind data.\n",
    "    :param seed: a random seed\n",
    "    \"\"\"\n",
    "    # Read evaluation and training data from the config\n",
    "    eval_steps = config.get('eval_steps', 1000)        # Number of time steps in each evaluation\n",
    "    training_steps = config.get('train_steps', 10000)  # Number of time steps in training\n",
    "    n_eval_env = config.get('n_eval_env', 1)           # Number of evaluations\n",
    "    time_delta = config.get('time_delta', 1)           # Time difference between time steps, in seconds\n",
    "\n",
    "    # Set random seeds, one for training and n_eval_env seeds for evaluations\n",
    "    random.seed(seed)\n",
    "    data_generation_train_seed = random.randint(0, 2 ** 32 - 1)\n",
    "    data_generation_eval_seeds = [random.randint(0, 2 ** 32 - 1) for _ in range(n_eval_env)]\n",
    "\n",
    "    # Create a directory for the project results if needed\n",
    "    directory = os.path.join(config.get('directory', 'data'),\n",
    "                             config.get('name', 'WindFarm'),\n",
    "                             f'seed_{seed}')\n",
    "    if not os.path.exists(directory):\n",
    "        os.makedirs(directory)\n",
    "\n",
    "    # Generate the wind data and save it. If the data already exists, load previously generated data instead\n",
    "    print(\"Retrieving the wind data...\")\n",
    "    if config.get('wind_process') is not None:\n",
    "        # Check the directory\n",
    "        data_path = os.path.join(directory, 'wind_data')\n",
    "        if not os.path.exists(data_path):\n",
    "            os.makedirs(data_path)\n",
    "\n",
    "        # Get the wind process data from the config\n",
    "        wind_config = config.get('wind_process', {})\n",
    "\n",
    "        # If the wind process is MVOU, read it\n",
    "        if wind_config.get('type', None) == 'mvou':\n",
    "            # Read the existing data\n",
    "            eval_processes = [\n",
    "                MVOUWindProcess.switch_to_csv(\n",
    "                    os.path.join(data_path, f'evaluation_data_{i}.csv'),\n",
    "                    time_steps=eval_steps,\n",
    "                    time_delta=time_delta,\n",
    "                    properties=wind_config.get('properties', None),\n",
    "                    seed=data_generation_eval_seeds[i]\n",
    "                )\n",
    "                for i in range(n_eval_env)\n",
    "            ]\n",
    "            train_process = MVOUWindProcess.switch_to_csv(\n",
    "                os.path.join(data_path, 'training_data.csv'),\n",
    "                time_steps=training_steps,\n",
    "                time_delta=time_delta,\n",
    "                properties=wind_config.get('properties', None),\n",
    "                seed=data_generation_train_seed\n",
    "            )\n",
    "        else:\n",
    "            # If you want to use a non-MVOU process, implement it here\n",
    "            raise NotImplementedError\n",
    "    else:\n",
    "        # In case there are no wind processes, constant wind will be used\n",
    "        eval_process, train_process = None, None\n",
    "\n",
    "    # Create the environments using the wind processes generated earlier\n",
    "    print(\"Setting  up the environments...\")\n",
    "    env_config = config.get('environment', {})  # this is the non-wind data needed to setup the environment\n",
    "    # time_delta is stored separately in the config because it is needed by both the wind process and the env\n",
    "    env_config['time_delta'] = time_delta\n",
    "    train_env = TimeLimit(WindFarmEnv(wind_process=train_process, **env_config), training_steps)\n",
    "    eval_envs = [\n",
    "        TimeLimit(WindFarmEnv(wind_process=eval_process, **env_config), eval_steps)\n",
    "        for eval_process in eval_processes\n",
    "    ]\n",
    "\n",
    "    # Make a list of agents, check if their experiment data already exists, and  skip them if it does.\n",
    "    # If you want to rerun one of the agents in a previous experiment, delete their data from the results\n",
    "    # directory.\n",
    "    print(\"Making agent list...\")\n",
    "    agents = config.get('agents', [])\n",
    "    results_directory = os.path.join(directory, 'results')\n",
    "\n",
    "    # Check which agents were already run\n",
    "    for agent_description in agents:\n",
    "        name = agent_description.get('name', agent_description.get('type', None))\n",
    "        assert name is not None, 'agents must have a name and/or a type'\n",
    "        agent_directory = os.path.join(results_directory, name)\n",
    "        if os.path.exists(agent_directory):\n",
    "            agent_description['exists'] = True\n",
    "\n",
    "    # Remove previously run agents from the list\n",
    "    agents = [agent for agent in agents if not agent.get('exists', False)]\n",
    "\n",
    "    # Run the agents\n",
    "    for agent_description in agents:\n",
    "        # Create a directory for  the agent\n",
    "        name = agent_description.get('name', agent_description.get('type', None))\n",
    "        agent_directory = os.path.join(results_directory, name)\n",
    "\n",
    "        # Configure the experiment\n",
    "        run_config = {\n",
    "            'log_directory': agent_directory,                        # The directory to log\n",
    "            'total_steps': training_steps,                           # Training steps\n",
    "            'render': config.get('render', False),                   # Render the environment to the user?\n",
    "            'rescale_rewards': config.get('rescale_rewards', True),  # Rescale the rewards to [0,1]?\n",
    "            'reward_range': config.get('reward_range'),              # Reward range for rescaling\n",
    "            'log': config.get('log', True),                          # Save logs?\n",
    "            'log_every': config.get('log_every', 100),               # Save logs every log_every steps\n",
    "            'eval_envs': eval_envs,                                  # A list of evaluation environments\n",
    "            'eval_steps': eval_steps,                                # How many steps should an evaluation last\n",
    "            'eval_every': config.get('eval_every', 100),             # Evaluate every eval_every steps\n",
    "        }\n",
    "\n",
    "        # Initialize an agent\n",
    "        print(f'Creating agent {name}...')\n",
    "        print(f'Retrieving parameters for agent {name}...')\n",
    "        parameters = agent_description.get('parameters', {})\n",
    "        # When agent's performance does not change over time, there is no need to re-evaluate it over and over.\n",
    "        # FLORIS and Naive agents fall into this category, so we run their evaluations only once to speed things\n",
    "        # up. If you want to, you can rerun them by changing the following variables.\n",
    "        eval_once = False  # If true, evaluate agent once and copy the results every eval_every steps\n",
    "        eval_only = False  # If true, don't run training, this agents needs evaluation only\n",
    "        print(f'Initializing agent {name}...')\n",
    "        if agent_description['type'] == 'naive':\n",
    "            agent = NaiveAgent(name, train_env)\n",
    "            eval_once = True\n",
    "            eval_only = True\n",
    "        elif agent_description['type'] == 'floris':\n",
    "            agent = FlorisAgent(name, train_env, **parameters)\n",
    "            eval_once = True\n",
    "            eval_only = True\n",
    "        elif agent_description['type'] == 'sac':\n",
    "            agent = SACAgent(name, train_env, **parameters)\n",
    "        elif agent_description['type'] == 'td3':\n",
    "            agent = TD3Agent(name, train_env, **parameters)\n",
    "        else:\n",
    "            # Implement your custom agents here\n",
    "            agent = None\n",
    "\n",
    "        # Run the training and evaluations\n",
    "        print(f'Running agent {name}...')\n",
    "        if agent is not None:\n",
    "            agent.run(eval_once=eval_once, eval_only=eval_only, **run_config)\n",
    "            agent.close()\n",
    "\n",
    "    print('Done')\n"
   ]
  },
  {
   "cell_type": "code",
   "execution_count": 10,
   "id": "898eb5bf-25f4-4cfd-a7d3-cd191dfd6c56",
   "metadata": {},
   "outputs": [
    {
     "name": "stdout",
     "output_type": "stream",
     "text": [
      "seed : 3838619817\n",
      "seed : 2608428279\n",
      "seed : 240072600\n",
      "seed : 553262114\n",
      "seed : 2926908060\n",
      "seed : 910166857\n",
      "seed : 2211266602\n",
      "seed : 1808337251\n",
      "seed : 1446729330\n",
      "seed : 905187325\n"
     ]
    }
   ],
   "source": [
    "# Run the experiments changing only the seeds\n",
    "for seed in seeds:\n",
    "    print(f'seed : {seed}')\n",
    "    # run(config, seed)"
   ]
  },
  {
   "cell_type": "code",
   "execution_count": 9,
   "id": "92dcab6e-ba2b-4cdc-b030-6177fe99587d",
   "metadata": {
    "collapsed": true,
    "jupyter": {
     "outputs_hidden": true
    },
    "tags": []
   },
   "outputs": [
    {
     "name": "stdout",
     "output_type": "stream",
     "text": [
      "Retrieving the wind data...\n",
      "Setting  up the environments...\n",
      "Making agent list...\n",
      "Creating agent TD3-wind...\n",
      "Retrieving parameters for agent TD3-wind...\n",
      "Initializing agent TD3-wind...\n"
     ]
    },
    {
     "name": "stderr",
     "output_type": "stream",
     "text": [
      "  0% (0 of 60480) |                      | Elapsed Time: 0:00:00 ETA:  --:--:--"
     ]
    },
    {
     "name": "stdout",
     "output_type": "stream",
     "text": [
      "Running agent TD3-wind...\n"
     ]
    },
    {
     "name": "stderr",
     "output_type": "stream",
     "text": [
      "  0% (12 of 2880) |                      | Elapsed Time: 0:00:00 ETA:   0:00:25"
     ]
    },
    {
     "name": "stdout",
     "output_type": "stream",
     "text": [
      "\n",
      "Evaluating...\n"
     ]
    },
    {
     "name": "stderr",
     "output_type": "stream",
     "text": [
      "100% (2880 of 2880) |####################| Elapsed Time: 0:00:26 Time:  0:00:26\n",
      "  0% (12 of 2880) |                      | Elapsed Time: 0:00:00 ETA:   0:00:25"
     ]
    },
    {
     "name": "stdout",
     "output_type": "stream",
     "text": [
      "\n",
      "Evaluating...\n"
     ]
    },
    {
     "name": "stderr",
     "output_type": "stream",
     "text": [
      "100% (2880 of 2880) |####################| Elapsed Time: 0:00:26 Time:  0:00:26\n",
      "  0% (12 of 2880) |                      | Elapsed Time: 0:00:00 ETA:   0:00:25"
     ]
    },
    {
     "name": "stdout",
     "output_type": "stream",
     "text": [
      "\n",
      "Evaluating...\n"
     ]
    },
    {
     "name": "stderr",
     "output_type": "stream",
     "text": [
      "100% (2880 of 2880) |####################| Elapsed Time: 0:00:26 Time:  0:00:26\n",
      "  0% (12 of 2880) |                      | Elapsed Time: 0:00:00 ETA:   0:00:25"
     ]
    },
    {
     "name": "stdout",
     "output_type": "stream",
     "text": [
      "\n",
      "Evaluating...\n"
     ]
    },
    {
     "name": "stderr",
     "output_type": "stream",
     "text": [
      "100% (2880 of 2880) |####################| Elapsed Time: 0:00:25 Time:  0:00:25\n",
      "  0% (12 of 2880) |                      | Elapsed Time: 0:00:00 ETA:   0:00:25"
     ]
    },
    {
     "name": "stdout",
     "output_type": "stream",
     "text": [
      "\n",
      "Evaluating...\n"
     ]
    },
    {
     "name": "stderr",
     "output_type": "stream",
     "text": [
      "100% (2880 of 2880) |####################| Elapsed Time: 0:00:26 Time:  0:00:26\n",
      "  0% (12 of 2880) |                      | Elapsed Time: 0:00:00 ETA:   0:00:25"
     ]
    },
    {
     "name": "stdout",
     "output_type": "stream",
     "text": [
      "\n",
      "Evaluating...\n"
     ]
    },
    {
     "name": "stderr",
     "output_type": "stream",
     "text": [
      "100% (2880 of 2880) |####################| Elapsed Time: 0:00:26 Time:  0:00:26\n",
      "  0% (12 of 2880) |                      | Elapsed Time: 0:00:00 ETA:   0:00:25"
     ]
    },
    {
     "name": "stdout",
     "output_type": "stream",
     "text": [
      "\n",
      "Evaluating...\n"
     ]
    },
    {
     "name": "stderr",
     "output_type": "stream",
     "text": [
      "100% (2880 of 2880) |####################| Elapsed Time: 0:00:26 Time:  0:00:26\n",
      "  0% (12 of 2880) |                      | Elapsed Time: 0:00:00 ETA:   0:00:25"
     ]
    },
    {
     "name": "stdout",
     "output_type": "stream",
     "text": [
      "\n",
      "Evaluating...\n"
     ]
    },
    {
     "name": "stderr",
     "output_type": "stream",
     "text": [
      "100% (2880 of 2880) |####################| Elapsed Time: 0:00:26 Time:  0:00:26\n",
      "  0% (12 of 2880) |                      | Elapsed Time: 0:00:00 ETA:   0:00:25"
     ]
    },
    {
     "name": "stdout",
     "output_type": "stream",
     "text": [
      "\n",
      "Evaluating...\n"
     ]
    },
    {
     "name": "stderr",
     "output_type": "stream",
     "text": [
      "100% (2880 of 2880) |####################| Elapsed Time: 0:00:26 Time:  0:00:26\n",
      "  0% (12 of 2880) |                      | Elapsed Time: 0:00:00 ETA:   0:00:25"
     ]
    },
    {
     "name": "stdout",
     "output_type": "stream",
     "text": [
      "\n",
      "Evaluating...\n"
     ]
    },
    {
     "name": "stderr",
     "output_type": "stream",
     "text": [
      "100% (2880 of 2880) |####################| Elapsed Time: 0:00:26 Time:  0:00:26\n",
      "  0% (12 of 2880) |                      | Elapsed Time: 0:00:00 ETA:   0:00:25"
     ]
    },
    {
     "name": "stdout",
     "output_type": "stream",
     "text": [
      "\n",
      "Evaluating...\n"
     ]
    },
    {
     "name": "stderr",
     "output_type": "stream",
     "text": [
      "100% (2880 of 2880) |####################| Elapsed Time: 0:00:26 Time:  0:00:26\n",
      "  0% (11 of 2880) |                      | Elapsed Time: 0:00:00 ETA:   0:00:26"
     ]
    },
    {
     "name": "stdout",
     "output_type": "stream",
     "text": [
      "\n",
      "Evaluating...\n"
     ]
    },
    {
     "name": "stderr",
     "output_type": "stream",
     "text": [
      "100% (2880 of 2880) |####################| Elapsed Time: 0:00:26 Time:  0:00:26\n",
      "  0% (12 of 2880) |                      | Elapsed Time: 0:00:00 ETA:   0:00:25"
     ]
    },
    {
     "name": "stdout",
     "output_type": "stream",
     "text": [
      "\n",
      "Evaluating...\n"
     ]
    },
    {
     "name": "stderr",
     "output_type": "stream",
     "text": [
      "100% (2880 of 2880) |####################| Elapsed Time: 0:00:26 Time:  0:00:26\n",
      "  0% (10 of 2880) |                      | Elapsed Time: 0:00:00 ETA:   0:00:28"
     ]
    },
    {
     "name": "stdout",
     "output_type": "stream",
     "text": [
      "\n",
      "Evaluating...\n"
     ]
    },
    {
     "name": "stderr",
     "output_type": "stream",
     "text": [
      "100% (2880 of 2880) |####################| Elapsed Time: 0:00:26 Time:  0:00:26\n",
      "  0% (10 of 2880) |                      | Elapsed Time: 0:00:00 ETA:   0:00:28"
     ]
    },
    {
     "name": "stdout",
     "output_type": "stream",
     "text": [
      "\n",
      "Evaluating...\n"
     ]
    },
    {
     "name": "stderr",
     "output_type": "stream",
     "text": [
      "100% (2880 of 2880) |####################| Elapsed Time: 0:00:26 Time:  0:00:26\n",
      "  0% (12 of 2880) |                      | Elapsed Time: 0:00:00 ETA:   0:00:25"
     ]
    },
    {
     "name": "stdout",
     "output_type": "stream",
     "text": [
      "\n",
      "Evaluating...\n"
     ]
    },
    {
     "name": "stderr",
     "output_type": "stream",
     "text": [
      "100% (2880 of 2880) |####################| Elapsed Time: 0:00:26 Time:  0:00:26\n",
      "  0% (12 of 2880) |                      | Elapsed Time: 0:00:00 ETA:   0:00:25"
     ]
    },
    {
     "name": "stdout",
     "output_type": "stream",
     "text": [
      "\n",
      "Evaluating...\n"
     ]
    },
    {
     "name": "stderr",
     "output_type": "stream",
     "text": [
      "100% (2880 of 2880) |####################| Elapsed Time: 0:00:26 Time:  0:00:26\n",
      "  0% (12 of 2880) |                      | Elapsed Time: 0:00:00 ETA:   0:00:25"
     ]
    },
    {
     "name": "stdout",
     "output_type": "stream",
     "text": [
      "\n",
      "Evaluating...\n"
     ]
    },
    {
     "name": "stderr",
     "output_type": "stream",
     "text": [
      "100% (2880 of 2880) |####################| Elapsed Time: 0:00:26 Time:  0:00:26\n",
      "  0% (11 of 2880) |                      | Elapsed Time: 0:00:00 ETA:   0:00:26"
     ]
    },
    {
     "name": "stdout",
     "output_type": "stream",
     "text": [
      "\n",
      "Evaluating...\n"
     ]
    },
    {
     "name": "stderr",
     "output_type": "stream",
     "text": [
      "100% (2880 of 2880) |####################| Elapsed Time: 0:00:26 Time:  0:00:26\n",
      "  0% (12 of 2880) |                      | Elapsed Time: 0:00:00 ETA:   0:00:25"
     ]
    },
    {
     "name": "stdout",
     "output_type": "stream",
     "text": [
      "\n",
      "Evaluating...\n"
     ]
    },
    {
     "name": "stderr",
     "output_type": "stream",
     "text": [
      "100% (2880 of 2880) |####################| Elapsed Time: 0:00:26 Time:  0:00:26\n",
      "  0% (12 of 2880) |                      | Elapsed Time: 0:00:00 ETA:   0:00:25"
     ]
    },
    {
     "name": "stdout",
     "output_type": "stream",
     "text": [
      "\n",
      "Evaluating...\n"
     ]
    },
    {
     "name": "stderr",
     "output_type": "stream",
     "text": [
      "100% (2880 of 2880) |####################| Elapsed Time: 0:00:26 Time:  0:00:26\n",
      "  0% (12 of 2880) |                      | Elapsed Time: 0:00:00 ETA:   0:00:25"
     ]
    },
    {
     "name": "stdout",
     "output_type": "stream",
     "text": [
      "\n",
      "Evaluating...\n"
     ]
    },
    {
     "name": "stderr",
     "output_type": "stream",
     "text": [
      "100% (2880 of 2880) |####################| Elapsed Time: 0:00:26 Time:  0:00:26\n",
      "  0% (12 of 2880) |                      | Elapsed Time: 0:00:00 ETA:   0:00:25"
     ]
    },
    {
     "name": "stdout",
     "output_type": "stream",
     "text": [
      "\n",
      "Evaluating...\n"
     ]
    },
    {
     "name": "stderr",
     "output_type": "stream",
     "text": [
      "100% (2880 of 2880) |####################| Elapsed Time: 0:00:26 Time:  0:00:26\n",
      "  0% (12 of 2880) |                      | Elapsed Time: 0:00:00 ETA:   0:00:25"
     ]
    },
    {
     "name": "stdout",
     "output_type": "stream",
     "text": [
      "\n",
      "Evaluating...\n"
     ]
    },
    {
     "name": "stderr",
     "output_type": "stream",
     "text": [
      "100% (2880 of 2880) |####################| Elapsed Time: 0:00:26 Time:  0:00:26\n",
      "  0% (11 of 2880) |                      | Elapsed Time: 0:00:00 ETA:   0:00:26"
     ]
    },
    {
     "name": "stdout",
     "output_type": "stream",
     "text": [
      "\n",
      "Evaluating...\n"
     ]
    },
    {
     "name": "stderr",
     "output_type": "stream",
     "text": [
      "100% (2880 of 2880) |####################| Elapsed Time: 0:00:26 Time:  0:00:26\n",
      "  0% (12 of 2880) |                      | Elapsed Time: 0:00:00 ETA:   0:00:26"
     ]
    },
    {
     "name": "stdout",
     "output_type": "stream",
     "text": [
      "\n",
      "Evaluating...\n"
     ]
    },
    {
     "name": "stderr",
     "output_type": "stream",
     "text": [
      "100% (2880 of 2880) |####################| Elapsed Time: 0:00:26 Time:  0:00:26\n",
      "  0% (12 of 2880) |                      | Elapsed Time: 0:00:00 ETA:   0:00:25"
     ]
    },
    {
     "name": "stdout",
     "output_type": "stream",
     "text": [
      "\n",
      "Evaluating...\n"
     ]
    },
    {
     "name": "stderr",
     "output_type": "stream",
     "text": [
      "100% (2880 of 2880) |####################| Elapsed Time: 0:00:26 Time:  0:00:26\n",
      "  0% (22 of 2880) |                      | Elapsed Time: 0:00:00 ETA:   0:00:26"
     ]
    },
    {
     "name": "stdout",
     "output_type": "stream",
     "text": [
      "\n",
      "Evaluating...\n"
     ]
    },
    {
     "name": "stderr",
     "output_type": "stream",
     "text": [
      "100% (2880 of 2880) |####################| Elapsed Time: 0:00:26 Time:  0:00:26\n",
      "  0% (12 of 2880) |                      | Elapsed Time: 0:00:00 ETA:   0:00:25"
     ]
    },
    {
     "name": "stdout",
     "output_type": "stream",
     "text": [
      "\n",
      "Evaluating...\n"
     ]
    },
    {
     "name": "stderr",
     "output_type": "stream",
     "text": [
      "100% (2880 of 2880) |####################| Elapsed Time: 0:00:26 Time:  0:00:26\n",
      "  0% (12 of 2880) |                      | Elapsed Time: 0:00:00 ETA:   0:00:25"
     ]
    },
    {
     "name": "stdout",
     "output_type": "stream",
     "text": [
      "\n",
      "Evaluating...\n"
     ]
    },
    {
     "name": "stderr",
     "output_type": "stream",
     "text": [
      "100% (2880 of 2880) |####################| Elapsed Time: 0:00:26 Time:  0:00:26\n",
      "  0% (12 of 2880) |                      | Elapsed Time: 0:00:00 ETA:   0:00:25"
     ]
    },
    {
     "name": "stdout",
     "output_type": "stream",
     "text": [
      "\n",
      "Evaluating...\n"
     ]
    },
    {
     "name": "stderr",
     "output_type": "stream",
     "text": [
      "100% (2880 of 2880) |####################| Elapsed Time: 0:00:26 Time:  0:00:26\n",
      "  0% (12 of 2880) |                      | Elapsed Time: 0:00:00 ETA:   0:00:25"
     ]
    },
    {
     "name": "stdout",
     "output_type": "stream",
     "text": [
      "\n",
      "Evaluating...\n"
     ]
    },
    {
     "name": "stderr",
     "output_type": "stream",
     "text": [
      "100% (2880 of 2880) |####################| Elapsed Time: 0:00:26 Time:  0:00:26\n",
      "  0% (10 of 2880) |                      | Elapsed Time: 0:00:00 ETA:   0:00:28"
     ]
    },
    {
     "name": "stdout",
     "output_type": "stream",
     "text": [
      "\n",
      "Evaluating...\n"
     ]
    },
    {
     "name": "stderr",
     "output_type": "stream",
     "text": [
      "100% (2880 of 2880) |####################| Elapsed Time: 0:00:26 Time:  0:00:26\n",
      "  0% (12 of 2880) |                      | Elapsed Time: 0:00:00 ETA:   0:00:25"
     ]
    },
    {
     "name": "stdout",
     "output_type": "stream",
     "text": [
      "\n",
      "Evaluating...\n"
     ]
    },
    {
     "name": "stderr",
     "output_type": "stream",
     "text": [
      "100% (2880 of 2880) |####################| Elapsed Time: 0:00:26 Time:  0:00:26\n",
      "  0% (12 of 2880) |                      | Elapsed Time: 0:00:00 ETA:   0:00:25"
     ]
    },
    {
     "name": "stdout",
     "output_type": "stream",
     "text": [
      "\n",
      "Evaluating...\n"
     ]
    },
    {
     "name": "stderr",
     "output_type": "stream",
     "text": [
      "100% (2880 of 2880) |####################| Elapsed Time: 0:00:26 Time:  0:00:26\n",
      "  0% (12 of 2880) |                      | Elapsed Time: 0:00:00 ETA:   0:00:25"
     ]
    },
    {
     "name": "stdout",
     "output_type": "stream",
     "text": [
      "\n",
      "Evaluating...\n"
     ]
    },
    {
     "name": "stderr",
     "output_type": "stream",
     "text": [
      "100% (2880 of 2880) |####################| Elapsed Time: 0:00:26 Time:  0:00:26\n",
      "  0% (12 of 2880) |                      | Elapsed Time: 0:00:00 ETA:   0:00:25"
     ]
    },
    {
     "name": "stdout",
     "output_type": "stream",
     "text": [
      "\n",
      "Evaluating...\n"
     ]
    },
    {
     "name": "stderr",
     "output_type": "stream",
     "text": [
      "100% (2880 of 2880) |####################| Elapsed Time: 0:00:26 Time:  0:00:26\n",
      "  0% (12 of 2880) |                      | Elapsed Time: 0:00:00 ETA:   0:00:25"
     ]
    },
    {
     "name": "stdout",
     "output_type": "stream",
     "text": [
      "\n",
      "Evaluating...\n"
     ]
    },
    {
     "name": "stderr",
     "output_type": "stream",
     "text": [
      "100% (2880 of 2880) |####################| Elapsed Time: 0:00:26 Time:  0:00:26\n",
      "  0% (12 of 2880) |                      | Elapsed Time: 0:00:00 ETA:   0:00:25"
     ]
    },
    {
     "name": "stdout",
     "output_type": "stream",
     "text": [
      "\n",
      "Evaluating...\n"
     ]
    },
    {
     "name": "stderr",
     "output_type": "stream",
     "text": [
      " 57% (1651 of 2880) |###########         | Elapsed Time: 0:00:14 ETA:   0:00:11"
     ]
    },
    {
     "ename": "KeyboardInterrupt",
     "evalue": "",
     "output_type": "error",
     "traceback": [
      "\u001b[0;31m---------------------------------------------------------------------------\u001b[0m",
      "\u001b[0;31mKeyboardInterrupt\u001b[0m                         Traceback (most recent call last)",
      "Cell \u001b[0;32mIn[9], line 1\u001b[0m\n\u001b[0;32m----> 1\u001b[0m \u001b[43mrun\u001b[49m\u001b[43m(\u001b[49m\u001b[43mconfig\u001b[49m\u001b[43m,\u001b[49m\u001b[43m \u001b[49m\u001b[38;5;241;43m2608428279\u001b[39;49m\u001b[43m)\u001b[49m\n",
      "Cell \u001b[0;32mIn[8], line 141\u001b[0m, in \u001b[0;36mrun\u001b[0;34m(config, seed)\u001b[0m\n\u001b[1;32m    139\u001b[0m     \u001b[38;5;28mprint\u001b[39m(\u001b[38;5;124mf\u001b[39m\u001b[38;5;124m'\u001b[39m\u001b[38;5;124mRunning agent \u001b[39m\u001b[38;5;132;01m{\u001b[39;00mname\u001b[38;5;132;01m}\u001b[39;00m\u001b[38;5;124m...\u001b[39m\u001b[38;5;124m'\u001b[39m)\n\u001b[1;32m    140\u001b[0m     \u001b[38;5;28;01mif\u001b[39;00m agent \u001b[38;5;129;01mis\u001b[39;00m \u001b[38;5;129;01mnot\u001b[39;00m \u001b[38;5;28;01mNone\u001b[39;00m:\n\u001b[0;32m--> 141\u001b[0m         \u001b[43magent\u001b[49m\u001b[38;5;241;43m.\u001b[39;49m\u001b[43mrun\u001b[49m\u001b[43m(\u001b[49m\u001b[43meval_once\u001b[49m\u001b[38;5;241;43m=\u001b[39;49m\u001b[43meval_once\u001b[49m\u001b[43m,\u001b[49m\u001b[43m \u001b[49m\u001b[43meval_only\u001b[49m\u001b[38;5;241;43m=\u001b[39;49m\u001b[43meval_only\u001b[49m\u001b[43m,\u001b[49m\u001b[43m \u001b[49m\u001b[38;5;241;43m*\u001b[39;49m\u001b[38;5;241;43m*\u001b[39;49m\u001b[43mrun_config\u001b[49m\u001b[43m)\u001b[49m\n\u001b[1;32m    142\u001b[0m         agent\u001b[38;5;241m.\u001b[39mclose()\n\u001b[1;32m    144\u001b[0m \u001b[38;5;28mprint\u001b[39m(\u001b[38;5;124m'\u001b[39m\u001b[38;5;124mDone\u001b[39m\u001b[38;5;124m'\u001b[39m)\n",
      "File \u001b[0;32m~/WF-sim-real/floris-env-RL/code/agent/agent.py:115\u001b[0m, in \u001b[0;36mAgent.run\u001b[0;34m(self, total_steps, render, rescale_rewards, reward_range, log, log_every, log_directory, eval_envs, eval_steps, eval_every, eval_once, eval_only)\u001b[0m\n\u001b[1;32m    112\u001b[0m \u001b[38;5;28;01mif\u001b[39;00m do_eval \u001b[38;5;129;01mand\u001b[39;00m (global_step \u001b[38;5;241m+\u001b[39m \u001b[38;5;241m1\u001b[39m) \u001b[38;5;241m%\u001b[39m eval_every \u001b[38;5;241m==\u001b[39m \u001b[38;5;241m0\u001b[39m:\n\u001b[1;32m    113\u001b[0m     \u001b[38;5;66;03m# evaluate the agent\u001b[39;00m\n\u001b[1;32m    114\u001b[0m     \u001b[38;5;28;01mif\u001b[39;00m (\u001b[38;5;129;01mnot\u001b[39;00m eval_once) \u001b[38;5;129;01mor\u001b[39;00m (eval_rewards \u001b[38;5;129;01mis\u001b[39;00m \u001b[38;5;28;01mNone\u001b[39;00m):\n\u001b[0;32m--> 115\u001b[0m         eval_rewards \u001b[38;5;241m=\u001b[39m np\u001b[38;5;241m.\u001b[39marray([\u001b[38;5;28mself\u001b[39m\u001b[38;5;241m.\u001b[39m_eval(env, eval_steps) \u001b[38;5;28;01mfor\u001b[39;00m env \u001b[38;5;129;01min\u001b[39;00m eval_envs])\n\u001b[1;32m    116\u001b[0m         \u001b[38;5;28;01mif\u001b[39;00m rescale_rewards:\n\u001b[1;32m    117\u001b[0m             eval_rewards \u001b[38;5;241m=\u001b[39m (eval_rewards \u001b[38;5;241m-\u001b[39m lowest_reward) \u001b[38;5;241m/\u001b[39m reward_delta\n",
      "File \u001b[0;32m~/WF-sim-real/floris-env-RL/code/agent/agent.py:115\u001b[0m, in \u001b[0;36m<listcomp>\u001b[0;34m(.0)\u001b[0m\n\u001b[1;32m    112\u001b[0m \u001b[38;5;28;01mif\u001b[39;00m do_eval \u001b[38;5;129;01mand\u001b[39;00m (global_step \u001b[38;5;241m+\u001b[39m \u001b[38;5;241m1\u001b[39m) \u001b[38;5;241m%\u001b[39m eval_every \u001b[38;5;241m==\u001b[39m \u001b[38;5;241m0\u001b[39m:\n\u001b[1;32m    113\u001b[0m     \u001b[38;5;66;03m# evaluate the agent\u001b[39;00m\n\u001b[1;32m    114\u001b[0m     \u001b[38;5;28;01mif\u001b[39;00m (\u001b[38;5;129;01mnot\u001b[39;00m eval_once) \u001b[38;5;129;01mor\u001b[39;00m (eval_rewards \u001b[38;5;129;01mis\u001b[39;00m \u001b[38;5;28;01mNone\u001b[39;00m):\n\u001b[0;32m--> 115\u001b[0m         eval_rewards \u001b[38;5;241m=\u001b[39m np\u001b[38;5;241m.\u001b[39marray([\u001b[38;5;28;43mself\u001b[39;49m\u001b[38;5;241;43m.\u001b[39;49m\u001b[43m_eval\u001b[49m\u001b[43m(\u001b[49m\u001b[43menv\u001b[49m\u001b[43m,\u001b[49m\u001b[43m \u001b[49m\u001b[43meval_steps\u001b[49m\u001b[43m)\u001b[49m \u001b[38;5;28;01mfor\u001b[39;00m env \u001b[38;5;129;01min\u001b[39;00m eval_envs])\n\u001b[1;32m    116\u001b[0m         \u001b[38;5;28;01mif\u001b[39;00m rescale_rewards:\n\u001b[1;32m    117\u001b[0m             eval_rewards \u001b[38;5;241m=\u001b[39m (eval_rewards \u001b[38;5;241m-\u001b[39m lowest_reward) \u001b[38;5;241m/\u001b[39m reward_delta\n",
      "File \u001b[0;32m~/WF-sim-real/floris-env-RL/code/agent/agent.py:129\u001b[0m, in \u001b[0;36mAgent._eval\u001b[0;34m(self, env, eval_steps)\u001b[0m\n\u001b[1;32m    127\u001b[0m \u001b[38;5;28;01mfor\u001b[39;00m _ \u001b[38;5;129;01min\u001b[39;00m progressbar\u001b[38;5;241m.\u001b[39mprogressbar(\u001b[38;5;28mrange\u001b[39m(eval_steps)):\n\u001b[1;32m    128\u001b[0m     action \u001b[38;5;241m=\u001b[39m \u001b[38;5;28mself\u001b[39m\u001b[38;5;241m.\u001b[39mfind_action(observation, in_eval\u001b[38;5;241m=\u001b[39m\u001b[38;5;28;01mTrue\u001b[39;00m)\n\u001b[0;32m--> 129\u001b[0m     observation, reward, _, _ \u001b[38;5;241m=\u001b[39m \u001b[43menv\u001b[49m\u001b[38;5;241;43m.\u001b[39;49m\u001b[43mstep\u001b[49m\u001b[43m(\u001b[49m\u001b[43maction\u001b[49m\u001b[43m)\u001b[49m\n\u001b[1;32m    130\u001b[0m     eval_reward \u001b[38;5;241m+\u001b[39m\u001b[38;5;241m=\u001b[39m reward\n\u001b[1;32m    131\u001b[0m \u001b[38;5;28;01mreturn\u001b[39;00m eval_reward\n",
      "File \u001b[0;32m~/anaconda3/envs/WF-sim-real/lib/python3.8/site-packages/gym/wrappers/time_limit.py:18\u001b[0m, in \u001b[0;36mTimeLimit.step\u001b[0;34m(self, action)\u001b[0m\n\u001b[1;32m     14\u001b[0m \u001b[38;5;28;01mdef\u001b[39;00m \u001b[38;5;21mstep\u001b[39m(\u001b[38;5;28mself\u001b[39m, action):\n\u001b[1;32m     15\u001b[0m     \u001b[38;5;28;01massert\u001b[39;00m (\n\u001b[1;32m     16\u001b[0m         \u001b[38;5;28mself\u001b[39m\u001b[38;5;241m.\u001b[39m_elapsed_steps \u001b[38;5;129;01mis\u001b[39;00m \u001b[38;5;129;01mnot\u001b[39;00m \u001b[38;5;28;01mNone\u001b[39;00m\n\u001b[1;32m     17\u001b[0m     ), \u001b[38;5;124m\"\u001b[39m\u001b[38;5;124mCannot call env.step() before calling reset()\u001b[39m\u001b[38;5;124m\"\u001b[39m\n\u001b[0;32m---> 18\u001b[0m     observation, reward, done, info \u001b[38;5;241m=\u001b[39m \u001b[38;5;28;43mself\u001b[39;49m\u001b[38;5;241;43m.\u001b[39;49m\u001b[43menv\u001b[49m\u001b[38;5;241;43m.\u001b[39;49m\u001b[43mstep\u001b[49m\u001b[43m(\u001b[49m\u001b[43maction\u001b[49m\u001b[43m)\u001b[49m\n\u001b[1;32m     19\u001b[0m     \u001b[38;5;28mself\u001b[39m\u001b[38;5;241m.\u001b[39m_elapsed_steps \u001b[38;5;241m+\u001b[39m\u001b[38;5;241m=\u001b[39m \u001b[38;5;241m1\u001b[39m\n\u001b[1;32m     20\u001b[0m     \u001b[38;5;28;01mif\u001b[39;00m \u001b[38;5;28mself\u001b[39m\u001b[38;5;241m.\u001b[39m_elapsed_steps \u001b[38;5;241m>\u001b[39m\u001b[38;5;241m=\u001b[39m \u001b[38;5;28mself\u001b[39m\u001b[38;5;241m.\u001b[39m_max_episode_steps:\n",
      "File \u001b[0;32m~/WF-sim-real/floris-env-RL/code/wind_farm_gym/wind_farm_env.py:490\u001b[0m, in \u001b[0;36mWindFarmEnv.step\u001b[0;34m(self, action)\u001b[0m\n\u001b[1;32m    488\u001b[0m \u001b[38;5;28mself\u001b[39m\u001b[38;5;241m.\u001b[39mstate \u001b[38;5;241m=\u001b[39m \u001b[38;5;28mself\u001b[39m\u001b[38;5;241m.\u001b[39m_get_state()\n\u001b[1;32m    489\u001b[0m \u001b[38;5;28mself\u001b[39m\u001b[38;5;241m.\u001b[39mfloris_interface\u001b[38;5;241m.\u001b[39mcalculate_wake()\n\u001b[0;32m--> 490\u001b[0m reward \u001b[38;5;241m=\u001b[39m np\u001b[38;5;241m.\u001b[39msum(\u001b[38;5;28;43mself\u001b[39;49m\u001b[38;5;241;43m.\u001b[39;49m\u001b[43mfloris_interface\u001b[49m\u001b[38;5;241;43m.\u001b[39;49m\u001b[43mget_turbine_power\u001b[49m\u001b[43m(\u001b[49m\u001b[43m)\u001b[49m)\n\u001b[1;32m    491\u001b[0m \u001b[38;5;28;01mif\u001b[39;00m np\u001b[38;5;241m.\u001b[39misnan(reward):\n\u001b[1;32m    492\u001b[0m     reward \u001b[38;5;241m=\u001b[39m \u001b[38;5;241m0\u001b[39m\n",
      "File \u001b[0;32m~/anaconda3/envs/WF-sim-real/lib/python3.8/site-packages/floris/tools/floris_interface.py:1066\u001b[0m, in \u001b[0;36mFlorisInterface.get_turbine_power\u001b[0;34m(self, include_unc, unc_pmfs, unc_options, no_wake, use_turbulence_correction)\u001b[0m\n\u001b[1;32m   1064\u001b[0m     \u001b[38;5;28;01mreturn\u001b[39;00m \u001b[38;5;28mlist\u001b[39m(mean_farm_power)\n\u001b[1;32m   1065\u001b[0m \u001b[38;5;28;01melse\u001b[39;00m:\n\u001b[0;32m-> 1066\u001b[0m     \u001b[38;5;28;01mreturn\u001b[39;00m [turbine\u001b[38;5;241m.\u001b[39mpower \u001b[38;5;28;01mfor\u001b[39;00m turbine \u001b[38;5;129;01min\u001b[39;00m \u001b[38;5;28mself\u001b[39m\u001b[38;5;241m.\u001b[39mfloris\u001b[38;5;241m.\u001b[39mfarm\u001b[38;5;241m.\u001b[39mturbines]\n",
      "File \u001b[0;32m~/anaconda3/envs/WF-sim-real/lib/python3.8/site-packages/floris/tools/floris_interface.py:1066\u001b[0m, in \u001b[0;36m<listcomp>\u001b[0;34m(.0)\u001b[0m\n\u001b[1;32m   1064\u001b[0m     \u001b[38;5;28;01mreturn\u001b[39;00m \u001b[38;5;28mlist\u001b[39m(mean_farm_power)\n\u001b[1;32m   1065\u001b[0m \u001b[38;5;28;01melse\u001b[39;00m:\n\u001b[0;32m-> 1066\u001b[0m     \u001b[38;5;28;01mreturn\u001b[39;00m [\u001b[43mturbine\u001b[49m\u001b[38;5;241;43m.\u001b[39;49m\u001b[43mpower\u001b[49m \u001b[38;5;28;01mfor\u001b[39;00m turbine \u001b[38;5;129;01min\u001b[39;00m \u001b[38;5;28mself\u001b[39m\u001b[38;5;241m.\u001b[39mfloris\u001b[38;5;241m.\u001b[39mfarm\u001b[38;5;241m.\u001b[39mturbines]\n",
      "File \u001b[0;32m~/anaconda3/envs/WF-sim-real/lib/python3.8/site-packages/floris/simulation/turbine.py:697\u001b[0m, in \u001b[0;36mTurbine.power\u001b[0;34m(self)\u001b[0m\n\u001b[1;32m    692\u001b[0m yaw_effective_velocity \u001b[38;5;241m=\u001b[39m \u001b[38;5;28mself\u001b[39m\u001b[38;5;241m.\u001b[39maverage_velocity \u001b[38;5;241m*\u001b[39m cosd(\u001b[38;5;28mself\u001b[39m\u001b[38;5;241m.\u001b[39myaw_angle) \u001b[38;5;241m*\u001b[39m\u001b[38;5;241m*\u001b[39m pW\n\u001b[1;32m    694\u001b[0m \u001b[38;5;66;03m# Now compute the power\u001b[39;00m\n\u001b[1;32m    695\u001b[0m \u001b[38;5;28;01mreturn\u001b[39;00m (\n\u001b[1;32m    696\u001b[0m     \u001b[38;5;28mself\u001b[39m\u001b[38;5;241m.\u001b[39mair_density\n\u001b[0;32m--> 697\u001b[0m     \u001b[38;5;241m*\u001b[39m \u001b[38;5;28;43mself\u001b[39;49m\u001b[38;5;241;43m.\u001b[39;49m\u001b[43mpowInterp\u001b[49m\u001b[43m(\u001b[49m\u001b[43myaw_effective_velocity\u001b[49m\u001b[43m)\u001b[49m\n\u001b[1;32m    698\u001b[0m     \u001b[38;5;241m*\u001b[39m \u001b[38;5;28mself\u001b[39m\u001b[38;5;241m.\u001b[39mturbulence_parameter\n\u001b[1;32m    699\u001b[0m )\n",
      "File \u001b[0;32m~/anaconda3/envs/WF-sim-real/lib/python3.8/site-packages/scipy/interpolate/_polyint.py:80\u001b[0m, in \u001b[0;36m_Interpolator1D.__call__\u001b[0;34m(self, x)\u001b[0m\n\u001b[1;32m     59\u001b[0m \u001b[38;5;124;03m\"\"\"\u001b[39;00m\n\u001b[1;32m     60\u001b[0m \u001b[38;5;124;03mEvaluate the interpolant\u001b[39;00m\n\u001b[1;32m     61\u001b[0m \n\u001b[0;32m   (...)\u001b[0m\n\u001b[1;32m     77\u001b[0m \n\u001b[1;32m     78\u001b[0m \u001b[38;5;124;03m\"\"\"\u001b[39;00m\n\u001b[1;32m     79\u001b[0m x, x_shape \u001b[38;5;241m=\u001b[39m \u001b[38;5;28mself\u001b[39m\u001b[38;5;241m.\u001b[39m_prepare_x(x)\n\u001b[0;32m---> 80\u001b[0m y \u001b[38;5;241m=\u001b[39m \u001b[38;5;28;43mself\u001b[39;49m\u001b[38;5;241;43m.\u001b[39;49m\u001b[43m_evaluate\u001b[49m\u001b[43m(\u001b[49m\u001b[43mx\u001b[49m\u001b[43m)\u001b[49m\n\u001b[1;32m     81\u001b[0m \u001b[38;5;28;01mreturn\u001b[39;00m \u001b[38;5;28mself\u001b[39m\u001b[38;5;241m.\u001b[39m_finish_y(y, x_shape)\n",
      "File \u001b[0;32m~/anaconda3/envs/WF-sim-real/lib/python3.8/site-packages/scipy/interpolate/_interpolate.py:750\u001b[0m, in \u001b[0;36minterp1d._evaluate\u001b[0;34m(self, x_new)\u001b[0m\n\u001b[1;32m    745\u001b[0m \u001b[38;5;28;01mdef\u001b[39;00m \u001b[38;5;21m_evaluate\u001b[39m(\u001b[38;5;28mself\u001b[39m, x_new):\n\u001b[1;32m    746\u001b[0m     \u001b[38;5;66;03m# 1. Handle values in x_new that are outside of x. Throw error,\u001b[39;00m\n\u001b[1;32m    747\u001b[0m     \u001b[38;5;66;03m#    or return a list of mask array indicating the outofbounds values.\u001b[39;00m\n\u001b[1;32m    748\u001b[0m     \u001b[38;5;66;03m#    The behavior is set by the bounds_error variable.\u001b[39;00m\n\u001b[1;32m    749\u001b[0m     x_new \u001b[38;5;241m=\u001b[39m asarray(x_new)\n\u001b[0;32m--> 750\u001b[0m     y_new \u001b[38;5;241m=\u001b[39m \u001b[38;5;28;43mself\u001b[39;49m\u001b[38;5;241;43m.\u001b[39;49m\u001b[43m_call\u001b[49m\u001b[43m(\u001b[49m\u001b[38;5;28;43mself\u001b[39;49m\u001b[43m,\u001b[49m\u001b[43m \u001b[49m\u001b[43mx_new\u001b[49m\u001b[43m)\u001b[49m\n\u001b[1;32m    751\u001b[0m     \u001b[38;5;28;01mif\u001b[39;00m \u001b[38;5;129;01mnot\u001b[39;00m \u001b[38;5;28mself\u001b[39m\u001b[38;5;241m.\u001b[39m_extrapolate:\n\u001b[1;32m    752\u001b[0m         below_bounds, above_bounds \u001b[38;5;241m=\u001b[39m \u001b[38;5;28mself\u001b[39m\u001b[38;5;241m.\u001b[39m_check_bounds(x_new)\n",
      "File \u001b[0;32m~/anaconda3/envs/WF-sim-real/lib/python3.8/site-packages/scipy/interpolate/_interpolate.py:701\u001b[0m, in \u001b[0;36minterp1d._call_linear\u001b[0;34m(self, x_new)\u001b[0m\n\u001b[1;32m    698\u001b[0m slope \u001b[38;5;241m=\u001b[39m (y_hi \u001b[38;5;241m-\u001b[39m y_lo) \u001b[38;5;241m/\u001b[39m (x_hi \u001b[38;5;241m-\u001b[39m x_lo)[:, \u001b[38;5;28;01mNone\u001b[39;00m]\n\u001b[1;32m    700\u001b[0m \u001b[38;5;66;03m# 5. Calculate the actual value for each entry in x_new.\u001b[39;00m\n\u001b[0;32m--> 701\u001b[0m y_new \u001b[38;5;241m=\u001b[39m \u001b[43mslope\u001b[49m\u001b[38;5;241;43m*\u001b[39;49m\u001b[43m(\u001b[49m\u001b[43mx_new\u001b[49m\u001b[43m \u001b[49m\u001b[38;5;241;43m-\u001b[39;49m\u001b[43m \u001b[49m\u001b[43mx_lo\u001b[49m\u001b[43m)\u001b[49m\u001b[43m[\u001b[49m\u001b[43m:\u001b[49m\u001b[43m,\u001b[49m\u001b[43m \u001b[49m\u001b[38;5;28;43;01mNone\u001b[39;49;00m\u001b[43m]\u001b[49m \u001b[38;5;241m+\u001b[39m y_lo\n\u001b[1;32m    703\u001b[0m \u001b[38;5;28;01mreturn\u001b[39;00m y_new\n",
      "\u001b[0;31mKeyboardInterrupt\u001b[0m: "
     ]
    }
   ],
   "source": [
    "run(config, 2608428279)"
   ]
  }
 ],
 "metadata": {
  "kernelspec": {
   "display_name": "WF-sim-real",
   "language": "python",
   "name": "wf-sim-real"
  },
  "language_info": {
   "codemirror_mode": {
    "name": "ipython",
    "version": 3
   },
   "file_extension": ".py",
   "mimetype": "text/x-python",
   "name": "python",
   "nbconvert_exporter": "python",
   "pygments_lexer": "ipython3",
   "version": "3.8.0"
  }
 },
 "nbformat": 4,
 "nbformat_minor": 5
}
